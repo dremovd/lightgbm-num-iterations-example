{
 "cells": [
  {
   "cell_type": "code",
   "execution_count": 1,
   "metadata": {},
   "outputs": [
    {
     "data": {
      "text/plain": [
       "('3.2.1', '0.24.2')"
      ]
     },
     "execution_count": 1,
     "metadata": {},
     "output_type": "execute_result"
    }
   ],
   "source": [
    "import sklearn\n",
    "import lightgbm\n",
    "\n",
    "lightgbm.__version__, sklearn.__version__"
   ]
  },
  {
   "cell_type": "code",
   "execution_count": 2,
   "metadata": {},
   "outputs": [
    {
     "name": "stdout",
     "output_type": "stream",
     "text": [
      "(10000, 10) (10000,)\n"
     ]
    }
   ],
   "source": [
    "from sklearn.datasets import make_regression\n",
    "X, y = make_regression(n_samples=10000, n_features=10, n_informative=5, random_state=1)\n",
    "print(X.shape, y.shape)"
   ]
  },
  {
   "cell_type": "code",
   "execution_count": 3,
   "metadata": {},
   "outputs": [],
   "source": [
    "from lightgbm import LGBMRegressor\n"
   ]
  },
  {
   "cell_type": "code",
   "execution_count": 4,
   "metadata": {},
   "outputs": [
    {
     "name": "stdout",
     "output_type": "stream",
     "text": [
      "90\n",
      "2.5649140260241214 112.62126308221285\n",
      "2.564914026251613 112.64412679301545\n",
      "2.5649140266743418 112.662656655717\n",
      "2.564914026804351 112.68621131722686\n",
      "2.564914026641853 112.70055860553174\n",
      "2.564914026541838 112.71413232515185\n",
      "2.564914026230896 112.73405736137951\n",
      "2.564914026133714 112.74241254240549\n",
      "2.5649140262674455 112.76499458084211\n",
      "2.5649140263814276 112.77813437536948\n",
      "2.5649140263814276 112.77813437536948\n"
     ]
    }
   ],
   "source": [
    "import numpy as np\n",
    "\n",
    "model = LGBMRegressor(n_jobs=1, n_estimators=90)\n",
    "model = model.fit(X, y)\n",
    "\n",
    "print(model.n_estimators)\n",
    "\n",
    "for iteration in range(81, 92):\n",
    "    p = model.predict(X, num_iteration=iteration)\n",
    "    print(\n",
    "        np.mean(p), np.std(p)\n",
    "    )"
   ]
  },
  {
   "cell_type": "code",
   "execution_count": null,
   "metadata": {},
   "outputs": [],
   "source": []
  },
  {
   "cell_type": "code",
   "execution_count": null,
   "metadata": {},
   "outputs": [],
   "source": []
  },
  {
   "cell_type": "code",
   "execution_count": null,
   "metadata": {},
   "outputs": [],
   "source": []
  }
 ],
 "metadata": {
  "kernelspec": {
   "display_name": "Python 3",
   "language": "python",
   "name": "python3"
  },
  "language_info": {
   "codemirror_mode": {
    "name": "ipython",
    "version": 3
   },
   "file_extension": ".py",
   "mimetype": "text/x-python",
   "name": "python",
   "nbconvert_exporter": "python",
   "pygments_lexer": "ipython3",
   "version": "3.6.8"
  }
 },
 "nbformat": 4,
 "nbformat_minor": 2
}
